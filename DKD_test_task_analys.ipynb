{
 "cells": [
  {
   "cell_type": "markdown",
   "id": "65beacbb-9718-4046-b4ee-e74f21d82c39",
   "metadata": {},
   "source": [
    "1) Дан следующий список: [1, 4, 2, 1, 4, 3, 2, 12, 8, 7, 12]. Найдите количество уникальных элементов в данном списке. Вставьте код с решением ниже.\n"
   ]
  },
  {
   "cell_type": "code",
   "execution_count": 2,
   "id": "592872a1-a168-48a7-8434-237147412ee6",
   "metadata": {},
   "outputs": [
    {
     "data": {
      "text/plain": [
       "7"
      ]
     },
     "execution_count": 2,
     "metadata": {},
     "output_type": "execute_result"
    }
   ],
   "source": [
    "len(set([1, 4, 2, 1, 4, 3, 2, 12, 8, 7, 12]))"
   ]
  },
  {
   "cell_type": "markdown",
   "id": "7003d9c3-42cc-4cfa-8830-d7772481ccec",
   "metadata": {},
   "source": [
    "Либо возьмем способ поадекватнее, чтобы было супер"
   ]
  },
  {
   "cell_type": "code",
   "execution_count": 5,
   "id": "8b5e85b9-856d-4ae3-baa9-d0a55f53b55a",
   "metadata": {},
   "outputs": [
    {
     "name": "stdout",
     "output_type": "stream",
     "text": [
      "count of unique list's elements: 7\n"
     ]
    }
   ],
   "source": [
    "our_list = [1, 4, 2, 1, 4, 3, 2, 12, 8, 7, 12]\n",
    "unique_list = set(our_list)\n",
    "print(f\"count of unique list's elements: {len(unique_list)}\")"
   ]
  },
  {
   "cell_type": "markdown",
   "id": "329cdc3d-6986-4053-a6db-2ef466b124e2",
   "metadata": {},
   "source": [
    "2) Пользователь вводит строку, состоящую из слов. Сделайте из нее аббревиатуру и распечатайте. Используйте list comprehension. \n",
    "Input: \"Полис обязательного медицинского страхования\"\n",
    "Output: \"ПОМС\"\n",
    "Внимание! Строку должен вводить пользователь и она может быть любой. Важно, чтобы из этой строки получилась аббревиатура."
   ]
  },
  {
   "cell_type": "code",
   "execution_count": 26,
   "id": "f7c72575-4e76-48ef-bf9d-47968227f25a",
   "metadata": {},
   "outputs": [],
   "source": [
    "def abr(list_words):\n",
    "    return reduce(lambda x, y: x + y, list(map(lambda x: x[0], words)))"
   ]
  },
  {
   "cell_type": "code",
   "execution_count": 36,
   "id": "d37cbd70-754f-4645-a41f-a12f0b0894cf",
   "metadata": {},
   "outputs": [
    {
     "name": "stdin",
     "output_type": "stream",
     "text": [
      " Полис обязательного медицинского страхования\n"
     ]
    },
    {
     "name": "stdout",
     "output_type": "stream",
     "text": [
      "Аббревиатура - ПОМС\n"
     ]
    }
   ],
   "source": [
    "from functools import reduce\n",
    "words = input().upper().split()\n",
    "abrev = abr(words)\n",
    "print('Аббревиатура -', abrev)"
   ]
  },
  {
   "cell_type": "markdown",
   "id": "6d5b6d15-be4b-4cf8-a11d-717823e5689c",
   "metadata": {},
   "source": [
    "Попробуем сделать то же самое только через **генераторы списков** (функции уже не будет)"
   ]
  },
  {
   "cell_type": "code",
   "execution_count": 51,
   "id": "1f1e4198-3568-4dc0-9389-96beee9fcec6",
   "metadata": {},
   "outputs": [
    {
     "name": "stdin",
     "output_type": "stream",
     "text": [
      " Полис обязательного медицинского страхования\n"
     ]
    },
    {
     "name": "stdout",
     "output_type": "stream",
     "text": [
      "Аббревиатура - ПОМС\n"
     ]
    }
   ],
   "source": [
    "words = input().split()\n",
    "abrev = [word[0].upper() for word in words]\n",
    "str_abrev = ''.join(abrev)\n",
    "print('Аббревиатура -', str_abrev)"
   ]
  },
  {
   "cell_type": "markdown",
   "id": "3bcbc95e-2581-4dd2-aed1-58f07670dbaf",
   "metadata": {},
   "source": [
    "3) В файле «births-by-mothers-age.csv» лежит статистика возрастов рожениц. Ваша задача - дописать функцию (ниже), которая принимает два года, возрастную группу и сравнивает изменения в процентах между данными в указанные годы"
   ]
  },
  {
   "cell_type": "markdown",
   "id": "7273ff9d-6033-427f-ba52-90df76d5c4a6",
   "metadata": {},
   "source": [
    "def find_mothers_age_diff(year1: int, year2: int, age_group: str):\n",
    "\n",
    "print(f'Разница в группе {age_group} составляет {}%. В {year1} процентное соотношение было {}% от общего количества, а в {year2} стало {}% от общего количества')\n",
    "\n",
    "Вставьте код с решением ниже.\n"
   ]
  },
  {
   "cell_type": "code",
   "execution_count": 134,
   "id": "ca387cd6-efc1-4241-b01d-d3399ce88b0f",
   "metadata": {},
   "outputs": [
    {
     "data": {
      "text/html": [
       "<div>\n",
       "<style scoped>\n",
       "    .dataframe tbody tr th:only-of-type {\n",
       "        vertical-align: middle;\n",
       "    }\n",
       "\n",
       "    .dataframe tbody tr th {\n",
       "        vertical-align: top;\n",
       "    }\n",
       "\n",
       "    .dataframe thead th {\n",
       "        text-align: right;\n",
       "    }\n",
       "</style>\n",
       "<table border=\"1\" class=\"dataframe\">\n",
       "  <thead>\n",
       "    <tr style=\"text-align: right;\">\n",
       "      <th></th>\n",
       "      <th>Period</th>\n",
       "      <th>Mothers_Age</th>\n",
       "      <th>Count</th>\n",
       "    </tr>\n",
       "  </thead>\n",
       "  <tbody>\n",
       "    <tr>\n",
       "      <th>0</th>\n",
       "      <td>2005</td>\n",
       "      <td>Under 15</td>\n",
       "      <td>36</td>\n",
       "    </tr>\n",
       "    <tr>\n",
       "      <th>1</th>\n",
       "      <td>2005</td>\n",
       "      <td>15–19</td>\n",
       "      <td>4098</td>\n",
       "    </tr>\n",
       "    <tr>\n",
       "      <th>2</th>\n",
       "      <td>2005</td>\n",
       "      <td>20–24</td>\n",
       "      <td>9708</td>\n",
       "    </tr>\n",
       "    <tr>\n",
       "      <th>3</th>\n",
       "      <td>2005</td>\n",
       "      <td>25–29</td>\n",
       "      <td>13797</td>\n",
       "    </tr>\n",
       "    <tr>\n",
       "      <th>4</th>\n",
       "      <td>2005</td>\n",
       "      <td>30–34</td>\n",
       "      <td>17976</td>\n",
       "    </tr>\n",
       "    <tr>\n",
       "      <th>5</th>\n",
       "      <td>2005</td>\n",
       "      <td>35–39</td>\n",
       "      <td>10029</td>\n",
       "    </tr>\n",
       "    <tr>\n",
       "      <th>6</th>\n",
       "      <td>2005</td>\n",
       "      <td>40–44</td>\n",
       "      <td>2001</td>\n",
       "    </tr>\n",
       "    <tr>\n",
       "      <th>7</th>\n",
       "      <td>2005</td>\n",
       "      <td>45 and over</td>\n",
       "      <td>93</td>\n",
       "    </tr>\n",
       "    <tr>\n",
       "      <th>8</th>\n",
       "      <td>2005</td>\n",
       "      <td>Total</td>\n",
       "      <td>57747</td>\n",
       "    </tr>\n",
       "    <tr>\n",
       "      <th>9</th>\n",
       "      <td>2006</td>\n",
       "      <td>Under 15</td>\n",
       "      <td>36</td>\n",
       "    </tr>\n",
       "    <tr>\n",
       "      <th>10</th>\n",
       "      <td>2006</td>\n",
       "      <td>15–19</td>\n",
       "      <td>4338</td>\n",
       "    </tr>\n",
       "    <tr>\n",
       "      <th>11</th>\n",
       "      <td>2006</td>\n",
       "      <td>20–24</td>\n",
       "      <td>10308</td>\n",
       "    </tr>\n",
       "    <tr>\n",
       "      <th>12</th>\n",
       "      <td>2006</td>\n",
       "      <td>25–29</td>\n",
       "      <td>14082</td>\n",
       "    </tr>\n",
       "    <tr>\n",
       "      <th>13</th>\n",
       "      <td>2006</td>\n",
       "      <td>30–34</td>\n",
       "      <td>17868</td>\n",
       "    </tr>\n",
       "    <tr>\n",
       "      <th>14</th>\n",
       "      <td>2006</td>\n",
       "      <td>35–39</td>\n",
       "      <td>10401</td>\n",
       "    </tr>\n",
       "    <tr>\n",
       "      <th>15</th>\n",
       "      <td>2006</td>\n",
       "      <td>40–44</td>\n",
       "      <td>2052</td>\n",
       "    </tr>\n",
       "    <tr>\n",
       "      <th>16</th>\n",
       "      <td>2006</td>\n",
       "      <td>45 and over</td>\n",
       "      <td>108</td>\n",
       "    </tr>\n",
       "    <tr>\n",
       "      <th>17</th>\n",
       "      <td>2006</td>\n",
       "      <td>Total</td>\n",
       "      <td>59193</td>\n",
       "    </tr>\n",
       "    <tr>\n",
       "      <th>18</th>\n",
       "      <td>2007</td>\n",
       "      <td>Under 15</td>\n",
       "      <td>51</td>\n",
       "    </tr>\n",
       "    <tr>\n",
       "      <th>19</th>\n",
       "      <td>2007</td>\n",
       "      <td>15–19</td>\n",
       "      <td>4902</td>\n",
       "    </tr>\n",
       "  </tbody>\n",
       "</table>\n",
       "</div>"
      ],
      "text/plain": [
       "    Period  Mothers_Age  Count\n",
       "0     2005     Under 15     36\n",
       "1     2005        15–19   4098\n",
       "2     2005        20–24   9708\n",
       "3     2005        25–29  13797\n",
       "4     2005        30–34  17976\n",
       "5     2005        35–39  10029\n",
       "6     2005        40–44   2001\n",
       "7     2005  45 and over     93\n",
       "8     2005        Total  57747\n",
       "9     2006     Under 15     36\n",
       "10    2006        15–19   4338\n",
       "11    2006        20–24  10308\n",
       "12    2006        25–29  14082\n",
       "13    2006        30–34  17868\n",
       "14    2006        35–39  10401\n",
       "15    2006        40–44   2052\n",
       "16    2006  45 and over    108\n",
       "17    2006        Total  59193\n",
       "18    2007     Under 15     51\n",
       "19    2007        15–19   4902"
      ]
     },
     "execution_count": 134,
     "metadata": {},
     "output_type": "execute_result"
    }
   ],
   "source": [
    "import pandas as pd\n",
    "birth_df = pd.read_csv('births-by-mothers-age.csv', sep=';')\n",
    "birth_df.head(20)"
   ]
  },
  {
   "cell_type": "code",
   "execution_count": 228,
   "id": "e8f11a7f-ccff-4e37-bc4b-d95ee03b452b",
   "metadata": {},
   "outputs": [],
   "source": [
    "def find_mothers_age_diff(year1, year2, age_group):\n",
    "    birth_df = pd.read_csv('births-by-mothers-age.csv', sep=';')\n",
    "    birth_year1 = birth_df.query('Period == @year1 and Mothers_Age == @age_group')\n",
    "    print(birth_year1)\n",
    "    count_age_group = int(birth_year1['Count'].iloc[0])\n",
    "    count_total = int(birth_df.query('Period == @year1 and Mothers_Age == \"Total\"')['Count'].iloc[0])\n",
    "    percent_group_one = np.round((count_age_group / count_total) * 100, 2)\n",
    "    birth_year2 = birth_df.query('Period == @year2 and Mothers_Age == @age_group')\n",
    "    count_age_group2 = int(birth_year2['Count'].iloc[0])\n",
    "    count_total2 = int(birth_df.query('Period == @year2 and Mothers_Age == \"Total\"')['Count'].iloc[0])\n",
    "    percent_group_two = np.round((count_age_group2 / count_total2) * 100, 2)\n",
    "    return f'''Разница в группе {age_group} составляет {abs(np.round(percent_group_two - percent_group_one, 2))}%. В {year1} процентное соотношение было {percent_group_one}% от общего количества, а в {year2} стало {percent_group_two}% от общего количества'''"
   ]
  },
  {
   "cell_type": "markdown",
   "id": "492bb268-7d1e-4061-b05e-c027ce14858b",
   "metadata": {},
   "source": [
    "Хочется отметить момент, что знак разделения возрастов \"-\" в нашем датафрейме и в вводе с клавиатуры немного отличается. Поэтому заменим его, переведя строку сначала в массив и заменив этот элемент"
   ]
  },
  {
   "cell_type": "code",
   "execution_count": 230,
   "id": "ea9c0d52-b559-4ece-a5fc-84ddecb8bcc9",
   "metadata": {},
   "outputs": [
    {
     "name": "stdin",
     "output_type": "stream",
     "text": [
      " 2005\n",
      " 2006\n",
      " 20-24\n"
     ]
    },
    {
     "name": "stdout",
     "output_type": "stream",
     "text": [
      "   Period Mothers_Age  Count\n",
      "2    2005       20–24   9708\n",
      "Разница в группе 20–24 составляет 0.6%. В 2005 процентное соотношение было 16.81% от общего количества, а в 2006 стало 17.41% от общего количества\n"
     ]
    }
   ],
   "source": [
    "import numpy as np\n",
    "year1 = int(input())\n",
    "year2 = int(input())\n",
    "age_group = input()\n",
    "list_age_group = list(age_group)\n",
    "if list_age_group[2] == '-':\n",
    "    list_age_group[2] = '–'\n",
    "    age_group = ''.join(list_age_group)\n",
    "stroka = find_mothers_age_diff(year1, year2, age_group)\n",
    "print(stroka)"
   ]
  },
  {
   "cell_type": "markdown",
   "id": "34c96985-ce6a-47e3-b569-a1b3baaee53a",
   "metadata": {},
   "source": [
    "4) Напишите скрипт на Python или VBA, который будет разбивать данные из файла  «Тестовое задание ДКД МО ДЗМ (Аналитик).xlsx» по полю «Медицинская организация» и записывать данные по каждой поликлинике в отдельные Excel-файлы, именованные по названию медицинской организации. Вставьте код с решением ниже.\n"
   ]
  },
  {
   "cell_type": "code",
   "execution_count": 236,
   "id": "01491f21-bd9f-4017-90d0-8549e63e83fb",
   "metadata": {},
   "outputs": [
    {
     "data": {
      "text/html": [
       "<div>\n",
       "<style scoped>\n",
       "    .dataframe tbody tr th:only-of-type {\n",
       "        vertical-align: middle;\n",
       "    }\n",
       "\n",
       "    .dataframe tbody tr th {\n",
       "        vertical-align: top;\n",
       "    }\n",
       "\n",
       "    .dataframe thead th {\n",
       "        text-align: right;\n",
       "    }\n",
       "</style>\n",
       "<table border=\"1\" class=\"dataframe\">\n",
       "  <thead>\n",
       "    <tr style=\"text-align: right;\">\n",
       "      <th></th>\n",
       "      <th>ID заболевания</th>\n",
       "      <th>Дата начала заболевания</th>\n",
       "      <th>Дата выздоровления</th>\n",
       "      <th>ID пациента</th>\n",
       "      <th>ДР</th>\n",
       "      <th>Пол</th>\n",
       "      <th>Тяжесть</th>\n",
       "      <th>Медицинская организация</th>\n",
       "    </tr>\n",
       "  </thead>\n",
       "  <tbody>\n",
       "    <tr>\n",
       "      <th>0</th>\n",
       "      <td>141783700</td>\n",
       "      <td>2022-11-01</td>\n",
       "      <td>2022-11-14</td>\n",
       "      <td>121430796</td>\n",
       "      <td>2017-05-13</td>\n",
       "      <td>муж</td>\n",
       "      <td>Без симптомов</td>\n",
       "      <td>Поликлиника №2</td>\n",
       "    </tr>\n",
       "    <tr>\n",
       "      <th>1</th>\n",
       "      <td>141683060</td>\n",
       "      <td>2022-11-01</td>\n",
       "      <td>2022-11-14</td>\n",
       "      <td>65946638</td>\n",
       "      <td>1981-03-01</td>\n",
       "      <td>муж</td>\n",
       "      <td>Легкая степень тяжести</td>\n",
       "      <td>Поликлиника №1</td>\n",
       "    </tr>\n",
       "    <tr>\n",
       "      <th>2</th>\n",
       "      <td>141763920</td>\n",
       "      <td>2022-11-01</td>\n",
       "      <td>2022-11-14</td>\n",
       "      <td>110127394</td>\n",
       "      <td>2002-08-03</td>\n",
       "      <td>жен</td>\n",
       "      <td>Легкая степень тяжести</td>\n",
       "      <td>Поликлиника №4</td>\n",
       "    </tr>\n",
       "    <tr>\n",
       "      <th>3</th>\n",
       "      <td>141689580</td>\n",
       "      <td>2022-11-01</td>\n",
       "      <td>2022-11-14</td>\n",
       "      <td>96273380</td>\n",
       "      <td>2001-10-19</td>\n",
       "      <td>жен</td>\n",
       "      <td>Легкая степень тяжести</td>\n",
       "      <td>Поликлиника №5</td>\n",
       "    </tr>\n",
       "    <tr>\n",
       "      <th>4</th>\n",
       "      <td>141476780</td>\n",
       "      <td>2022-11-01</td>\n",
       "      <td>2022-11-08</td>\n",
       "      <td>124251147</td>\n",
       "      <td>1956-01-13</td>\n",
       "      <td>жен</td>\n",
       "      <td>Легкая степень тяжести</td>\n",
       "      <td>Поликлиника №5</td>\n",
       "    </tr>\n",
       "    <tr>\n",
       "      <th>5</th>\n",
       "      <td>141557540</td>\n",
       "      <td>2022-11-01</td>\n",
       "      <td>2022-11-07</td>\n",
       "      <td>52483199</td>\n",
       "      <td>1996-08-31</td>\n",
       "      <td>жен</td>\n",
       "      <td>Легкая степень тяжести</td>\n",
       "      <td>Поликлиника №1</td>\n",
       "    </tr>\n",
       "    <tr>\n",
       "      <th>6</th>\n",
       "      <td>141673380</td>\n",
       "      <td>2022-11-01</td>\n",
       "      <td>2022-11-14</td>\n",
       "      <td>81276779</td>\n",
       "      <td>1994-12-30</td>\n",
       "      <td>муж</td>\n",
       "      <td>Легкая степень тяжести</td>\n",
       "      <td>Поликлиника №5</td>\n",
       "    </tr>\n",
       "    <tr>\n",
       "      <th>7</th>\n",
       "      <td>141750520</td>\n",
       "      <td>2022-11-01</td>\n",
       "      <td>2022-11-07</td>\n",
       "      <td>122744199</td>\n",
       "      <td>2013-07-08</td>\n",
       "      <td>жен</td>\n",
       "      <td>Средняя степень тяжести</td>\n",
       "      <td>Поликлиника №4</td>\n",
       "    </tr>\n",
       "    <tr>\n",
       "      <th>8</th>\n",
       "      <td>141597540</td>\n",
       "      <td>2022-11-01</td>\n",
       "      <td>2022-11-08</td>\n",
       "      <td>124274573</td>\n",
       "      <td>2022-06-18</td>\n",
       "      <td>жен</td>\n",
       "      <td>Легкая степень тяжести</td>\n",
       "      <td>Поликлиника №5</td>\n",
       "    </tr>\n",
       "    <tr>\n",
       "      <th>9</th>\n",
       "      <td>141607640</td>\n",
       "      <td>2022-11-01</td>\n",
       "      <td>2022-11-14</td>\n",
       "      <td>6913934</td>\n",
       "      <td>2003-07-19</td>\n",
       "      <td>жен</td>\n",
       "      <td>Средняя степень тяжести</td>\n",
       "      <td>Поликлиника №4</td>\n",
       "    </tr>\n",
       "  </tbody>\n",
       "</table>\n",
       "</div>"
      ],
      "text/plain": [
       "   ID заболевания Дата начала заболевания Дата выздоровления  ID пациента  \\\n",
       "0       141783700              2022-11-01         2022-11-14    121430796   \n",
       "1       141683060              2022-11-01         2022-11-14     65946638   \n",
       "2       141763920              2022-11-01         2022-11-14    110127394   \n",
       "3       141689580              2022-11-01         2022-11-14     96273380   \n",
       "4       141476780              2022-11-01         2022-11-08    124251147   \n",
       "5       141557540              2022-11-01         2022-11-07     52483199   \n",
       "6       141673380              2022-11-01         2022-11-14     81276779   \n",
       "7       141750520              2022-11-01         2022-11-07    122744199   \n",
       "8       141597540              2022-11-01         2022-11-08    124274573   \n",
       "9       141607640              2022-11-01         2022-11-14      6913934   \n",
       "\n",
       "          ДР  Пол                  Тяжесть Медицинская организация  \n",
       "0 2017-05-13  муж            Без симптомов          Поликлиника №2  \n",
       "1 1981-03-01  муж   Легкая степень тяжести          Поликлиника №1  \n",
       "2 2002-08-03  жен   Легкая степень тяжести          Поликлиника №4  \n",
       "3 2001-10-19  жен   Легкая степень тяжести          Поликлиника №5  \n",
       "4 1956-01-13  жен   Легкая степень тяжести          Поликлиника №5  \n",
       "5 1996-08-31  жен   Легкая степень тяжести          Поликлиника №1  \n",
       "6 1994-12-30  муж   Легкая степень тяжести          Поликлиника №5  \n",
       "7 2013-07-08  жен  Средняя степень тяжести          Поликлиника №4  \n",
       "8 2022-06-18  жен   Легкая степень тяжести          Поликлиника №5  \n",
       "9 2003-07-19  жен  Средняя степень тяжести          Поликлиника №4  "
      ]
     },
     "execution_count": 236,
     "metadata": {},
     "output_type": "execute_result"
    }
   ],
   "source": [
    "excel_df = pd.read_excel('test_task_four.xlsx')\n",
    "excel_df.head(10)"
   ]
  },
  {
   "cell_type": "code",
   "execution_count": 270,
   "id": "16c51df2-d7bd-4fcf-8c2a-a8cd7b1851d8",
   "metadata": {},
   "outputs": [
    {
     "name": "stderr",
     "output_type": "stream",
     "text": [
      "100%|█████████████████████████████████████████████| 5/5 [00:01<00:00,  3.38it/s]"
     ]
    },
    {
     "name": "stdout",
     "output_type": "stream",
     "text": [
      "All files have already written succesfully!\n"
     ]
    },
    {
     "name": "stderr",
     "output_type": "stream",
     "text": [
      "\n"
     ]
    }
   ],
   "source": [
    "from tqdm import tqdm\n",
    "array_hospital = excel_df['Медицинская организация'].unique()\n",
    "for hospital in tqdm(array_hospital):\n",
    "    excel_df_hosp = excel_df.query('`Медицинская организация` == @hospital')\n",
    "    excel_df_hosp.to_excel(f\"{hospital}.xlsx\", index=False, engine=\"openpyxl\")\n",
    "print('All files have already written succesfully!')"
   ]
  },
  {
   "cell_type": "code",
   "execution_count": null,
   "id": "2d391d36-5bbc-40a3-b9ee-54c9c81f7869",
   "metadata": {},
   "outputs": [],
   "source": []
  }
 ],
 "metadata": {
  "kernelspec": {
   "display_name": "Python [conda env:base] *",
   "language": "python",
   "name": "conda-base-py"
  },
  "language_info": {
   "codemirror_mode": {
    "name": "ipython",
    "version": 3
   },
   "file_extension": ".py",
   "mimetype": "text/x-python",
   "name": "python",
   "nbconvert_exporter": "python",
   "pygments_lexer": "ipython3",
   "version": "3.12.2"
  }
 },
 "nbformat": 4,
 "nbformat_minor": 5
}
